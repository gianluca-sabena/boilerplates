{
 "cells": [
  {
   "cell_type": "markdown",
   "metadata": {},
   "source": [
    "# Help\n",
    "\n",
    "Marathon app json deploy - <https://docs.mesosphere.com/1.10/deploying-services/creating-services/deploy-docker-app/#add-your-docker-app-to-marathon>\n",
    "\n",
    "Main config objects:\n",
    "\n",
    "- environment -> contains global config for physical cluster\n"
   ]
  },
  {
   "cell_type": "code",
   "execution_count": 62,
   "metadata": {},
   "outputs": [],
   "source": [
    "physical_env = { \n",
    "    'docker_registry': 'registry-a'\n",
    "    'base_range': 20100\n",
    "}"
   ]
  },
  {
   "cell_type": "code",
   "execution_count": 69,
   "metadata": {},
   "outputs": [
    {
     "name": "stdout",
     "output_type": "stream",
     "text": [
      "{'docker_registry': 'registry-b',\n",
      " 'java': {'options': {'option_a': 'A', 'option_b': 'b'}},\n",
      " 'key': ['b']}\n"
     ]
    }
   ],
   "source": [
    "import requests, json, pprint\n",
    "app_common = { \n",
    "    'docker_registry': 'registry-b',\n",
    "    'key': ['a'],\n",
    "    'java': {\n",
    "        'options': {\n",
    "            'option_a':'a'\n",
    "        }\n",
    "    }\n",
    "}\n",
    "\n",
    "app_env = {\n",
    "    'id': 'app-A'\n",
    "    'key': ['b'],\n",
    "    'java': {\n",
    "        'options': {\n",
    "            'option_a':'A',\n",
    "            'option_b':'b'\n",
    "        }\n",
    "    }\n",
    "}\n",
    "env_all = {**physical_env, **app_common, **app_env}\n",
    "pprint.pprint(env_all, indent=1)"
   ]
  },
  {
   "cell_type": "code",
   "execution_count": 64,
   "metadata": {},
   "outputs": [
    {
     "data": {
      "text/plain": [
       "'{\"id\": \"nginx\", \"container\": {\"type\": \"DOCKER\", \"docker\": {\"image\": \"registry-a/mesosphere/simple-docker\"}, \"portMappings\": [{\"hostPort\": 80, \"containerPort\": 80, \"protocol\": \"tcp\"}]}, \"networks\": [{\"mode\": \"container/bridge\"}], \"acceptedResourceRoles\": [\"slave_public\"], \"instances\": 1, \"cpus\": 0.1, \"mem\": 64}'"
      ]
     },
     "execution_count": 64,
     "metadata": {},
     "output_type": "execute_result"
    }
   ],
   "source": [
    "app_json = {\n",
    "  'id': 'nginx',\n",
    "  'container': {\n",
    "    'type': 'DOCKER',\n",
    "    'docker': {\n",
    "      'image': f'''{env_all['docker_registry']}/mesosphere/simple-docker'''\n",
    "    },\n",
    "    'portMappings': [\n",
    "      { 'hostPort': 80, 'containerPort': 80, 'protocol': 'tcp' }\n",
    "    ]\n",
    "  },\n",
    "  'networks': [\n",
    "    {\n",
    "      'mode': 'container/bridge'\n",
    "    }\n",
    "  ],\n",
    "  'acceptedResourceRoles': ['slave_public'],\n",
    "  'instances': 1,\n",
    "  'cpus': 0.1,\n",
    "  'mem': 64\n",
    "}\n",
    "\n",
    "all = json.dumps(app_json)\n",
    "str(all)"
   ]
  },
  {
   "cell_type": "code",
   "execution_count": null,
   "metadata": {},
   "outputs": [],
   "source": []
  }
 ],
 "metadata": {
  "kernelspec": {
   "display_name": "Python 3",
   "language": "python",
   "name": "python3"
  },
  "language_info": {
   "codemirror_mode": {
    "name": "ipython",
    "version": 3
   },
   "file_extension": ".py",
   "mimetype": "text/x-python",
   "name": "python",
   "nbconvert_exporter": "python",
   "pygments_lexer": "ipython3",
   "version": "3.6.4"
  }
 },
 "nbformat": 4,
 "nbformat_minor": 2
}
