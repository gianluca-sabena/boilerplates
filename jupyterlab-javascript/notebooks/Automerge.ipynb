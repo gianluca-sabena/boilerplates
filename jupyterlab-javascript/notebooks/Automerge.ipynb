{
 "cells": [
  {
   "cell_type": "markdown",
   "metadata": {},
   "source": [
    "# Javascript and typescript kernel\n",
    "\n",
    "* Kernel Tslab <https://github.com/yunabe/tslab>\n",
    "* Examples <https://github.com/yunabe/tslab-examples>"
   ]
  },
  {
   "cell_type": "code",
   "execution_count": 9,
   "metadata": {},
   "outputs": [
    {
     "name": "stdout",
     "output_type": "stream",
     "text": [
      "Intel(R) Core(TM) i7-6920HQ CPU @ 2.90GHz\n"
     ]
    }
   ],
   "source": [
    "let os = require(\"os\");\n",
    "os.cpus()[0].model"
   ]
  },
  {
   "cell_type": "markdown",
   "metadata": {},
   "source": [
    "## CRDT\n",
    "\n",
    "* CRDT <https://crdt.tech/>\n",
    "* Automerge <https://github.com/automerge/automerge/commits/master>\n",
    "\n",
    "Open a jupyterlab terminal and install `npm install automerge`"
   ]
  },
  {
   "cell_type": "code",
   "execution_count": 6,
   "metadata": {},
   "outputs": [],
   "source": [
    "const Automerge = require('automerge')"
   ]
  },
  {
   "cell_type": "code",
   "execution_count": null,
   "metadata": {},
   "outputs": [],
   "source": []
  }
 ],
 "metadata": {
  "kernelspec": {
   "display_name": "JavaScript",
   "language": "javascript",
   "name": "jslab"
  },
  "language_info": {
   "file_extension": ".js",
   "mimetype": "text/javascript",
   "name": "javascript",
   "version": ""
  }
 },
 "nbformat": 4,
 "nbformat_minor": 4
}
