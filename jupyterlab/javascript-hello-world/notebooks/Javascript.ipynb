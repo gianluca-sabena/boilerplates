{
 "cells": [
  {
   "cell_type": "markdown",
   "metadata": {},
   "source": [
    "# Javascript"
   ]
  },
  {
   "cell_type": "code",
   "execution_count": null,
   "metadata": {},
   "outputs": [],
   "source": [
    "function f() {\n",
    "\n",
    "  let promise = new Promise((resolve, reject) => {\n",
    "    setTimeout(() => resolve(\"done!\"), 1000)\n",
    "  });\n",
    "  promise.then(r => console.log(r)).catch(e=>console.log(e));\n",
    "  // let result = await promise; // wait until the promise resolves (*)\n",
    "  //console.log(result); // \"done!\"\n",
    "}\n",
    "f()\n"
   ]
  }
 ],
 "metadata": {
  "kernelspec": {
   "display_name": "JavaScript",
   "language": "javascript",
   "name": "jslab"
  },
  "language_info": {
   "file_extension": ".js",
   "mimetype": "text/javascript",
   "name": "javascript",
   "version": ""
  }
 },
 "nbformat": 4,
 "nbformat_minor": 4
}
