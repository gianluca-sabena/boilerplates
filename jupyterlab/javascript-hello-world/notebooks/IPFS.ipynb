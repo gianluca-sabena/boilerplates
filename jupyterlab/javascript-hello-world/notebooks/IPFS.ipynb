{
 "cells": [
  {
   "cell_type": "markdown",
   "metadata": {},
   "source": [
    "# IPFS Javascript\n",
    "\n",
    "## Install\n",
    "\n",
    "Open a terminal and run `npm install ipfs`\n",
    "\n",
    "JS docs (outdated...) <https://js.ipfs.io/>\n",
    "\n",
    "Js Example:\n",
    "* Docs <https://github.com/ipfs/js-ipfs/tree/master/examples/ipfs-101>\n",
    "* JS example <https://github.com/ipfs/js-ipfs/blob/master/examples/ipfs-101/1.js>\n",
    "\n",
    "Remove lock file in case of error!"
   ]
  },
  {
   "cell_type": "code",
   "execution_count": null,
   "metadata": {},
   "outputs": [],
   "source": [
    "const IPFS = require('ipfs')\n",
    "const node = await IPFS.create()"
   ]
  },
  {
   "cell_type": "code",
   "execution_count": null,
   "metadata": {},
   "outputs": [],
   "source": [
    "// inspect node functions and objects\n",
    "// await node\n",
    "//const i = await node.start()\n",
    "node.isOnline()"
   ]
  },
  {
   "cell_type": "code",
   "execution_count": null,
   "metadata": {},
   "outputs": [],
   "source": [
    "await node.version()"
   ]
  },
  {
   "cell_type": "code",
   "execution_count": null,
   "metadata": {},
   "outputs": [],
   "source": [
    "async function add_file() {\n",
    "    cids = []\n",
    "    const filesAdded = await node.add({\n",
    "        path: 'hello.txt',\n",
    "        content: 'Hello World 102'\n",
    "      })\n",
    "   for await (let file of filesAdded) {\n",
    "     //console.log(file);\n",
    "       cids.push(file.cid)\n",
    "   }\n",
    "    return cids\n",
    "}\n",
    "let files = await add_file()\n",
    "files"
   ]
  },
  {
   "cell_type": "code",
   "execution_count": null,
   "metadata": {},
   "outputs": [],
   "source": [
    "async function get_file(cid) {\n",
    "    const data = await node.cat(cid)\n",
    "   for await (let file of data) {\n",
    "     console.log(file.toString());\n",
    "   }\n",
    "}\n",
    "await get_file(files[0])\n"
   ]
  },
  {
   "cell_type": "code",
   "execution_count": null,
   "metadata": {},
   "outputs": [],
   "source": [
    "// Geenrate hash and open a link\n",
    "\"https://ipfs.io/ipfs/\"+files[0].toString()"
   ]
  },
  {
   "cell_type": "code",
   "execution_count": null,
   "metadata": {},
   "outputs": [],
   "source": [
    "// Stop node\n",
    "node.stop()\n",
    "node.isOnline()"
   ]
  },
  {
   "cell_type": "code",
   "execution_count": null,
   "metadata": {},
   "outputs": [],
   "source": [
    "// Remove lock \n",
    "const fs = require('fs');\n",
    "fs.rmdirSync(process.env.HOME+\"/.jsipfs\",{recursive: true })"
   ]
  },
  {
   "cell_type": "code",
   "execution_count": null,
   "metadata": {},
   "outputs": [],
   "source": []
  }
 ],
 "metadata": {
  "kernelspec": {
   "display_name": "JavaScript",
   "language": "javascript",
   "name": "jslab"
  },
  "language_info": {
   "file_extension": ".js",
   "mimetype": "text/javascript",
   "name": "javascript",
   "version": ""
  }
 },
 "nbformat": 4,
 "nbformat_minor": 4
}
